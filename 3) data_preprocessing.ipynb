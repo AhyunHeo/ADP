{
 "cells": [
  {
   "attachments": {},
   "cell_type": "markdown",
   "metadata": {},
   "source": [
    "## 데이터 전처리(Data Preprocessing)\n",
    "수행하고자 하는 분석에 적합하게 데이터를 가공하는 작업\n",
    "- 데이터 클리닝 : 결측치 처리, 이상치 확인 및 정제 등\n",
    "- 데이터 통합 : 다양한 데이터 파일 결합 등\n",
    "- 데이터 변환 : 스케일링, 요약 등\n",
    "- 데이터 축소 : 변수 축소, 라벨링 등\n",
    "- 불균형 데이터 처리 : 언더/오버 샘플링 등\n",
    "- 데이터 분할 : train, test 데이터 분할 등"
   ]
  },
  {
   "attachments": {},
   "cell_type": "markdown",
   "metadata": {},
   "source": [
    "#### [이상치 확인 및 정제]\n",
    "\n",
    "##### 1) 이상치 확인\n",
    "자료형 등이 다른 관측치는 이상값 존재 여부를 확인할 수 있다. 하지만 관측 형식은 같지만 실제 환경에서 발생하지 않는 이상치의 경우(극단값) 모델 전체에 영향을 미칠 수 있으므로 정제해 주는 것이 좋다.\n",
    "\n",
    "<b><해석></b> boxplot을 그려보면 Q3의 수염 위에 4개의 이상치를 확인할 수 있다. 이상치 위치와 값을 확인해보자."
   ]
  },
  {
   "cell_type": "code",
   "execution_count": 1,
   "metadata": {},
   "outputs": [
    {
     "data": {
      "image/png": "[encoded data removed]",
      "text/plain": [
       "<Figure size 640x480 with 1 Axes>"
      ]
     },
     "metadata": {},
     "output_type": "display_data"
    }
   ],
   "source": [
    "import pandas as pd\n",
    "import matplotlib.pyplot as plt\n",
    "from sklearn.datasets import load_wine\n",
    "wine_load = load_wine()\n",
    "wine = pd.DataFrame(wine_load.data, columns = wine_load.feature_names)\n",
    "wine['Class'] = wine_load.target\n",
    "wine['Class'] = wine['Class'].map({0:'class_0', 1:'class_1', 2:'class_2'})\n",
    "\n",
    "plt.boxplot(wine['color_intensity'], whis=1.5)\n",
    "plt.title('color_intensity')\n",
    "plt.show()"
   ]
  },
  {
   "cell_type": "code",
   "execution_count": 4,
   "metadata": {},
   "outputs": [
    {
     "data": {
      "text/html": [
       "<div>\n",
       "<style scoped>\n",
       "    .dataframe tbody tr th:only-of-type {\n",
       "        vertical-align: middle;\n",
       "    }\n",
       "\n",
       "    .dataframe tbody tr th {\n",
       "        vertical-align: top;\n",
       "    }\n",
       "\n",
       "    .dataframe thead th {\n",
       "        text-align: right;\n",
       "    }\n",
       "</style>\n",
       "<table border=\"1\" class=\"dataframe\">\n",
       "  <thead>\n",
       "    <tr style=\"text-align: right;\">\n",
       "      <th></th>\n",
       "      <th>color_intensity</th>\n",
       "    </tr>\n",
       "  </thead>\n",
       "  <tbody>\n",
       "    <tr>\n",
       "      <th>151</th>\n",
       "      <td>10.80</td>\n",
       "    </tr>\n",
       "    <tr>\n",
       "      <th>158</th>\n",
       "      <td>13.00</td>\n",
       "    </tr>\n",
       "    <tr>\n",
       "      <th>159</th>\n",
       "      <td>11.75</td>\n",
       "    </tr>\n",
       "    <tr>\n",
       "      <th>166</th>\n",
       "      <td>10.68</td>\n",
       "    </tr>\n",
       "  </tbody>\n",
       "</table>\n",
       "</div>"
      ],
      "text/plain": [
       "     color_intensity\n",
       "151            10.80\n",
       "158            13.00\n",
       "159            11.75\n",
       "166            10.68"
      ]
     },
     "execution_count": 4,
     "metadata": {},
     "output_type": "execute_result"
    }
   ],
   "source": [
    "import numpy as np\n",
    "def outliers_iqr(dt,col):\n",
    "    q1, q3 = np.percentile(dt[col], [25,75])\n",
    "    iqr = q3 - q1\n",
    "    lower_whis = q1 - (iqr*1.5)\n",
    "    upper_whis = q3 + (iqr*1.5)\n",
    "    outliers = dt[(dt[col] > upper_whis) | (dt[col] < lower_whis)]\n",
    "    return outliers[[col]]\n",
    "\n",
    "outliers = outliers_iqr(wine, 'color_intensity')\n",
    "outliers"
   ]
  },
  {
   "attachments": {},
   "cell_type": "markdown",
   "metadata": {},
   "source": [
    "##### 2) 이상치 정제\n",
    "이상치 정제 방법은 이상치를 가진 행을 삭제하거나, 이상치를 적절한 값으로 정제하는 것이 있다.\n",
    "\n",
    "- 이상치 제거"
   ]
  },
  {
   "cell_type": "code",
   "execution_count": 5,
   "metadata": {},
   "outputs": [
    {
     "name": "stdout",
     "output_type": "stream",
     "text": [
      "Original :  (178, 14)\n",
      "Drop_outliers :  (174, 14)\n"
     ]
    }
   ],
   "source": [
    "drop_outliers = wine.drop(index=outliers.index)\n",
    "\n",
    "# 이상치 삭제 전후 데이터 shape\n",
    "print('Original : ', wine.shape)\n",
    "print('Drop_outliers : ', drop_outliers.shape)"
   ]
  },
  {
   "attachments": {},
   "cell_type": "markdown",
   "metadata": {},
   "source": [
    "- 이상치 대체"
   ]
  },
  {
   "cell_type": "code",
   "execution_count": 17,
   "metadata": {},
   "outputs": [
    {
     "data": {
      "text/plain": [
       "151   NaN\n",
       "158   NaN\n",
       "159   NaN\n",
       "166   NaN\n",
       "Name: color_intensity, dtype: float64"
      ]
     },
     "execution_count": 17,
     "metadata": {},
     "output_type": "execute_result"
    }
   ],
   "source": [
    "# wine['color_intensity'].mean()\n",
    "wine.loc[outliers.index, 'color_intensity']"
   ]
  },
  {
   "cell_type": "code",
   "execution_count": 24,
   "metadata": {},
   "outputs": [
    {
     "data": {
      "text/plain": [
       "151    NaN\n",
       "158    NaN\n",
       "159    NaN\n",
       "166    NaN\n",
       "Name: color_intensity, dtype: object"
      ]
     },
     "execution_count": 24,
     "metadata": {},
     "output_type": "execute_result"
    }
   ],
   "source": [
    "# 이상치를 NaN으로 변경\n",
    "wine.loc[outliers.index, 'color_intensity'] = np.NaN\n",
    "wine.loc[outliers.index, 'color_intensity']"
   ]
  },
  {
   "cell_type": "code",
   "execution_count": 29,
   "metadata": {},
   "outputs": [
    {
     "data": {
      "text/plain": [
       "151    4.908678\n",
       "158    4.908678\n",
       "159    4.908678\n",
       "166    4.908678\n",
       "Name: color_intensity, dtype: float64"
      ]
     },
     "execution_count": 29,
     "metadata": {},
     "output_type": "execute_result"
    }
   ],
   "source": [
    "# 이상치를 평균값으로 변경\n",
    "# 수치로 변경할 때는 이상치를 NaN로 만든 후 수행\n",
    "wine['color_intensity'].fillna(wine['color_intensity'].mean(), inplace=True)\n",
    "wine.loc[outliers.index, 'color_intensity']"
   ]
  },
  {
   "attachments": {},
   "cell_type": "markdown",
   "metadata": {},
   "source": [
    "##### 3) 범주형 변수 처리\n",
    "범주형 변수(Categorical Data)는 질적변수라고도 하며 명목형변수와 순서형변수가 여기에 포함된다.\n",
    "\n",
    "- 더미변수화"
   ]
  },
  {
   "cell_type": "code",
   "execution_count": 30,
   "metadata": {},
   "outputs": [
    {
     "data": {
      "text/html": [
       "<div>\n",
       "<style scoped>\n",
       "    .dataframe tbody tr th:only-of-type {\n",
       "        vertical-align: middle;\n",
       "    }\n",
       "\n",
       "    .dataframe tbody tr th {\n",
       "        vertical-align: top;\n",
       "    }\n",
       "\n",
       "    .dataframe thead th {\n",
       "        text-align: right;\n",
       "    }\n",
       "</style>\n",
       "<table border=\"1\" class=\"dataframe\">\n",
       "  <thead>\n",
       "    <tr style=\"text-align: right;\">\n",
       "      <th></th>\n",
       "      <th>sepal length (cm)</th>\n",
       "      <th>sepal width (cm)</th>\n",
       "      <th>petal length (cm)</th>\n",
       "      <th>petal width (cm)</th>\n",
       "      <th>Class_Setosa</th>\n",
       "      <th>Class_Versicolour</th>\n",
       "      <th>Class_Virginica</th>\n",
       "    </tr>\n",
       "  </thead>\n",
       "  <tbody>\n",
       "    <tr>\n",
       "      <th>0</th>\n",
       "      <td>5.1</td>\n",
       "      <td>3.5</td>\n",
       "      <td>1.4</td>\n",
       "      <td>0.2</td>\n",
       "      <td>1</td>\n",
       "      <td>0</td>\n",
       "      <td>0</td>\n",
       "    </tr>\n",
       "    <tr>\n",
       "      <th>1</th>\n",
       "      <td>4.9</td>\n",
       "      <td>3.0</td>\n",
       "      <td>1.4</td>\n",
       "      <td>0.2</td>\n",
       "      <td>1</td>\n",
       "      <td>0</td>\n",
       "      <td>0</td>\n",
       "    </tr>\n",
       "    <tr>\n",
       "      <th>2</th>\n",
       "      <td>4.7</td>\n",
       "      <td>3.2</td>\n",
       "      <td>1.3</td>\n",
       "      <td>0.2</td>\n",
       "      <td>1</td>\n",
       "      <td>0</td>\n",
       "      <td>0</td>\n",
       "    </tr>\n",
       "    <tr>\n",
       "      <th>3</th>\n",
       "      <td>4.6</td>\n",
       "      <td>3.1</td>\n",
       "      <td>1.5</td>\n",
       "      <td>0.2</td>\n",
       "      <td>1</td>\n",
       "      <td>0</td>\n",
       "      <td>0</td>\n",
       "    </tr>\n",
       "    <tr>\n",
       "      <th>4</th>\n",
       "      <td>5.0</td>\n",
       "      <td>3.6</td>\n",
       "      <td>1.4</td>\n",
       "      <td>0.2</td>\n",
       "      <td>1</td>\n",
       "      <td>0</td>\n",
       "      <td>0</td>\n",
       "    </tr>\n",
       "    <tr>\n",
       "      <th>...</th>\n",
       "      <td>...</td>\n",
       "      <td>...</td>\n",
       "      <td>...</td>\n",
       "      <td>...</td>\n",
       "      <td>...</td>\n",
       "      <td>...</td>\n",
       "      <td>...</td>\n",
       "    </tr>\n",
       "    <tr>\n",
       "      <th>145</th>\n",
       "      <td>6.7</td>\n",
       "      <td>3.0</td>\n",
       "      <td>5.2</td>\n",
       "      <td>2.3</td>\n",
       "      <td>0</td>\n",
       "      <td>0</td>\n",
       "      <td>1</td>\n",
       "    </tr>\n",
       "    <tr>\n",
       "      <th>146</th>\n",
       "      <td>6.3</td>\n",
       "      <td>2.5</td>\n",
       "      <td>5.0</td>\n",
       "      <td>1.9</td>\n",
       "      <td>0</td>\n",
       "      <td>0</td>\n",
       "      <td>1</td>\n",
       "    </tr>\n",
       "    <tr>\n",
       "      <th>147</th>\n",
       "      <td>6.5</td>\n",
       "      <td>3.0</td>\n",
       "      <td>5.2</td>\n",
       "      <td>2.0</td>\n",
       "      <td>0</td>\n",
       "      <td>0</td>\n",
       "      <td>1</td>\n",
       "    </tr>\n",
       "    <tr>\n",
       "      <th>148</th>\n",
       "      <td>6.2</td>\n",
       "      <td>3.4</td>\n",
       "      <td>5.4</td>\n",
       "      <td>2.3</td>\n",
       "      <td>0</td>\n",
       "      <td>0</td>\n",
       "      <td>1</td>\n",
       "    </tr>\n",
       "    <tr>\n",
       "      <th>149</th>\n",
       "      <td>5.9</td>\n",
       "      <td>3.0</td>\n",
       "      <td>5.1</td>\n",
       "      <td>1.8</td>\n",
       "      <td>0</td>\n",
       "      <td>0</td>\n",
       "      <td>1</td>\n",
       "    </tr>\n",
       "  </tbody>\n",
       "</table>\n",
       "<p>150 rows × 7 columns</p>\n",
       "</div>"
      ],
      "text/plain": [
       "     sepal length (cm)  sepal width (cm)  petal length (cm)  petal width (cm)  \\\n",
       "0                  5.1               3.5                1.4               0.2   \n",
       "1                  4.9               3.0                1.4               0.2   \n",
       "2                  4.7               3.2                1.3               0.2   \n",
       "3                  4.6               3.1                1.5               0.2   \n",
       "4                  5.0               3.6                1.4               0.2   \n",
       "..                 ...               ...                ...               ...   \n",
       "145                6.7               3.0                5.2               2.3   \n",
       "146                6.3               2.5                5.0               1.9   \n",
       "147                6.5               3.0                5.2               2.0   \n",
       "148                6.2               3.4                5.4               2.3   \n",
       "149                5.9               3.0                5.1               1.8   \n",
       "\n",
       "     Class_Setosa  Class_Versicolour  Class_Virginica  \n",
       "0               1                  0                0  \n",
       "1               1                  0                0  \n",
       "2               1                  0                0  \n",
       "3               1                  0                0  \n",
       "4               1                  0                0  \n",
       "..            ...                ...              ...  \n",
       "145             0                  0                1  \n",
       "146             0                  0                1  \n",
       "147             0                  0                1  \n",
       "148             0                  0                1  \n",
       "149             0                  0                1  \n",
       "\n",
       "[150 rows x 7 columns]"
      ]
     },
     "execution_count": 30,
     "metadata": {},
     "output_type": "execute_result"
    }
   ],
   "source": [
    "import pandas as pd\n",
    "from sklearn.datasets import load_iris\n",
    "iris = load_iris()\n",
    "iris = pd.DataFrame(iris.data, columns=iris.feature_names)\n",
    "iris['Class'] = load_iris().target\n",
    "iris['Class'] = iris['Class'].map({0:'Setosa', 1:'Versicolour', 2:'Virginica'})\n",
    "\n",
    "# pd.get_dummies(data, columns=['범주형1','범주형2'])\n",
    "iris_dummy = pd.get_dummies(iris, columns=['Class'])\n",
    "iris_dummy"
   ]
  },
  {
   "attachments": {},
   "cell_type": "markdown",
   "metadata": {},
   "source": [
    "##### 4) 데이터 분할 (7:3 / 6:2:2)"
   ]
  },
  {
   "cell_type": "code",
   "execution_count": 38,
   "metadata": {},
   "outputs": [
    {
     "name": "stdout",
     "output_type": "stream",
     "text": [
      "X_train:  (105, 4) X_test:  (45, 4)\n",
      "y_train:  (105,) y_test:  (45,)\n"
     ]
    }
   ],
   "source": [
    "import pandas as pd\n",
    "from sklearn.datasets import load_iris\n",
    "iris = load_iris()\n",
    "iris = pd.DataFrame(iris.data, columns=iris.feature_names)\n",
    "iris['Class'] = load_iris().target\n",
    "iris['Class'] = iris['Class'].map({0:'Setosa', 1:'Versicolour', 2:'Virginica'})\n",
    "\n",
    "from sklearn.model_selection import train_test_split\n",
    "X_train, X_test, y_train, y_test = train_test_split(iris.drop(columns='Class'),\n",
    "                                                    iris['Class'], test_size=0.3, random_state=123)\n",
    "\n",
    "print('X_train: ', X_train.shape, 'X_test: ',X_test.shape)\n",
    "print('y_train: ', y_train.shape, 'y_test: ',y_test.shape)"
   ]
  },
  {
   "cell_type": "code",
   "execution_count": 39,
   "metadata": {},
   "outputs": [
    {
     "name": "stdout",
     "output_type": "stream",
     "text": [
      "Setosa         50\n",
      "Versicolour    50\n",
      "Virginica      50\n",
      "Name: Class, dtype: int64\n",
      "\n",
      "\n",
      "Versicolour    40\n",
      "Virginica      33\n",
      "Setosa         32\n",
      "Name: Class, dtype: int64\n"
     ]
    }
   ],
   "source": [
    "print(iris['Class'].value_counts())\n",
    "print('\\n')\n",
    "print(y_train.value_counts())"
   ]
  },
  {
   "attachments": {},
   "cell_type": "markdown",
   "metadata": {},
   "source": [
    "무작위임의추출을 수행하면 각 범주의 개수 비율이 차이가 날 수 있다. 크게 차이나지 않는 경우는 문제없지만, 무작위 임의추출 결과가 원본을 충분히 반영하지 못한다면 분석 성능에 큰 악영향을 미칠 수 있다.\n",
    "\n",
    "-> stratify : 범주 개수 차이가 크게 나지 않도록 층화임의추출을 수행할 수 있다."
   ]
  },
  {
   "cell_type": "code",
   "execution_count": 40,
   "metadata": {},
   "outputs": [
    {
     "data": {
      "text/plain": [
       "Versicolour    35\n",
       "Setosa         35\n",
       "Virginica      35\n",
       "Name: Class, dtype: int64"
      ]
     },
     "execution_count": 40,
     "metadata": {},
     "output_type": "execute_result"
    }
   ],
   "source": [
    "from sklearn.model_selection import train_test_split\n",
    "X_train, X_test, y_train, y_test = train_test_split(iris.drop(columns='Class'),\n",
    "                                                    iris['Class'], test_size=0.3, random_state=123, stratify=iris['Class'])\n",
    "\n",
    "y_train.value_counts()"
   ]
  },
  {
   "attachments": {},
   "cell_type": "markdown",
   "metadata": {},
   "source": [
    "##### 5) 데이터 스케일링\n",
    "- 표준화(Standardization) : 각 컬럼의 평균을 0, 분산을 1인 정규분포로 만드는 방법"
   ]
  },
  {
   "cell_type": "code",
   "execution_count": 48,
   "metadata": {},
   "outputs": [
    {
     "name": "stdout",
     "output_type": "stream",
     "text": [
      "Train scaled(-2.37, 3.09, -0.00, 1.00)\n",
      "Train scaled(-1.91, 2.64, 0.08, 1.08)\n"
     ]
    }
   ],
   "source": [
    "# standard scaler\n",
    "# 최소/최대값 크기를 제한하지 않아 이상치에 매우 민감하므로 이상치 확인 및 정제 후 사용해야 함\n",
    "# 회귀보단 분류분석에서 유용\n",
    "from sklearn.preprocessing import StandardScaler\n",
    "std = StandardScaler()\n",
    "\n",
    "std.fit(X_train)\n",
    "X_train_scale = std.transform(X_train)\n",
    "X_test_scale = std.transform(X_test)\n",
    "\n",
    "print('Train scaled(%.2f, %.2f, %.2f, %.2f)'\n",
    "      %(X_train_scale.min(), X_train_scale.max(), X_train_scale.mean(), X_train_scale.std()))\n",
    "print('Train scaled(%.2f, %.2f, %.2f, %.2f)'\n",
    "      %(X_test_scale.min(), X_test_scale.max(), X_test_scale.mean(), X_test_scale.std()))"
   ]
  },
  {
   "attachments": {},
   "cell_type": "markdown",
   "metadata": {},
   "source": [
    "- 정규화(Normalization) : 각 컬럼들 값이 특정 범위(주로 0~1) 안에 들어가도록 하는 방법"
   ]
  },
  {
   "cell_type": "code",
   "execution_count": 49,
   "metadata": {},
   "outputs": [
    {
     "name": "stdout",
     "output_type": "stream",
     "text": [
      "Train scaled(0.00, 1.00, 0.44, 0.26)\n",
      "Train scaled(-0.02, 1.00, 0.46, 0.28)\n"
     ]
    }
   ],
   "source": [
    "# min-max Scaler\n",
    "# 마찬가지로 이상치에 매우 민감하므로 이상치 확인 및 정제 후 사용해야 함\n",
    "# 분류보단 회귀에 유용\n",
    "from sklearn.preprocessing import MinMaxScaler\n",
    "mm = MinMaxScaler()\n",
    "\n",
    "mm.fit(X_train)\n",
    "X_train_scale = mm.transform(X_train)\n",
    "X_test_scale = mm.transform(X_test)\n",
    "\n",
    "print('Train scaled(%.2f, %.2f, %.2f, %.2f)'\n",
    "      %(X_train_scale.min(), X_train_scale.max(), X_train_scale.mean(), X_train_scale.std()))\n",
    "print('Train scaled(%.2f, %.2f, %.2f, %.2f)'\n",
    "      %(X_test_scale.min(), X_test_scale.max(), X_test_scale.mean(), X_test_scale.std()))"
   ]
  },
  {
   "cell_type": "code",
   "execution_count": 50,
   "metadata": {},
   "outputs": [
    {
     "name": "stdout",
     "output_type": "stream",
     "text": [
      "Train scaled(0.00, 1.00, 0.44, 0.26)\n",
      "Train scaled(-0.02, 1.00, 0.46, 0.28)\n"
     ]
    }
   ],
   "source": [
    "# Max Abs Scaler\n",
    "# -1과 1사이에 표현되며 데이터가 양수인 경우 min-max와 동일함\n",
    "# 이상치에 매우 민감하며, 분류보단 회귀에 유용\n",
    "from sklearn.preprocessing import MaxAbsScaler\n",
    "mabs = MinMaxScaler()\n",
    "\n",
    "mabs.fit(X_train)\n",
    "X_train_scale = mabs.transform(X_train)\n",
    "X_test_scale = mabs.transform(X_test)\n",
    "\n",
    "print('Train scaled(%.2f, %.2f, %.2f, %.2f)'\n",
    "      %(X_train_scale.min(), X_train_scale.max(), X_train_scale.mean(), X_train_scale.std()))\n",
    "print('Train scaled(%.2f, %.2f, %.2f, %.2f)'\n",
    "      %(X_test_scale.min(), X_test_scale.max(), X_test_scale.mean(), X_test_scale.std()))"
   ]
  },
  {
   "cell_type": "code",
   "execution_count": 51,
   "metadata": {},
   "outputs": [
    {
     "name": "stdout",
     "output_type": "stream",
     "text": [
      "Train scaled(-1.67, 2.33, -0.01, 0.60)\n",
      "Train scaled(-1.33, 2.00, 0.04, 0.64)\n"
     ]
    }
   ],
   "source": [
    "# Robust Scaler\n",
    "# 평균과 분산대신 중앙값과 사분위값을 활용, \n",
    "# 중앙값을 0으로 설정하고 IQR을 사용하여 이상치 영향을 최소화한다.\n",
    "from sklearn.preprocessing import RobustScaler\n",
    "rbt = RobustScaler()    # RobustScaler(quantile_range=(0.25, 0.75))\n",
    "\n",
    "rbt.fit(X_train)\n",
    "X_train_scale = rbt.transform(X_train)\n",
    "X_test_scale = rbt.transform(X_test)\n",
    "\n",
    "print('Train scaled(%.2f, %.2f, %.2f, %.2f)'\n",
    "      %(X_train_scale.min(), X_train_scale.max(), X_train_scale.mean(), X_train_scale.std()))\n",
    "print('Train scaled(%.2f, %.2f, %.2f, %.2f)'\n",
    "      %(X_test_scale.min(), X_test_scale.max(), X_test_scale.mean(), X_test_scale.std()))"
   ]
  },
  {
   "attachments": {},
   "cell_type": "markdown",
   "metadata": {},
   "source": [
    "- 원본 스케일로 변경"
   ]
  },
  {
   "cell_type": "code",
   "execution_count": 54,
   "metadata": {},
   "outputs": [
    {
     "data": {
      "text/html": [
       "<div>\n",
       "<style scoped>\n",
       "    .dataframe tbody tr th:only-of-type {\n",
       "        vertical-align: middle;\n",
       "    }\n",
       "\n",
       "    .dataframe tbody tr th {\n",
       "        vertical-align: top;\n",
       "    }\n",
       "\n",
       "    .dataframe thead th {\n",
       "        text-align: right;\n",
       "    }\n",
       "</style>\n",
       "<table border=\"1\" class=\"dataframe\">\n",
       "  <thead>\n",
       "    <tr style=\"text-align: right;\">\n",
       "      <th></th>\n",
       "      <th>0</th>\n",
       "      <th>1</th>\n",
       "      <th>2</th>\n",
       "      <th>3</th>\n",
       "    </tr>\n",
       "  </thead>\n",
       "  <tbody>\n",
       "    <tr>\n",
       "      <th>0</th>\n",
       "      <td>-16.826923</td>\n",
       "      <td>-12.019231</td>\n",
       "      <td>-16.826923</td>\n",
       "      <td>-0.3</td>\n",
       "    </tr>\n",
       "    <tr>\n",
       "      <th>1</th>\n",
       "      <td>-7.211538</td>\n",
       "      <td>10.817308</td>\n",
       "      <td>-69.711538</td>\n",
       "      <td>-0.9</td>\n",
       "    </tr>\n",
       "    <tr>\n",
       "      <th>2</th>\n",
       "      <td>-2.403846</td>\n",
       "      <td>0.000000</td>\n",
       "      <td>-2.403846</td>\n",
       "      <td>0.0</td>\n",
       "    </tr>\n",
       "  </tbody>\n",
       "</table>\n",
       "</div>"
      ],
      "text/plain": [
       "           0          1          2    3\n",
       "0 -16.826923 -12.019231 -16.826923 -0.3\n",
       "1  -7.211538  10.817308 -69.711538 -0.9\n",
       "2  -2.403846   0.000000  -2.403846  0.0"
      ]
     },
     "execution_count": 54,
     "metadata": {},
     "output_type": "execute_result"
    }
   ],
   "source": [
    "# sclaer.inverse_transform()\n",
    "pd.DataFrame(X_train_scale).head(3)"
   ]
  },
  {
   "cell_type": "code",
   "execution_count": 55,
   "metadata": {},
   "outputs": [
    {
     "data": {
      "text/html": [
       "<div>\n",
       "<style scoped>\n",
       "    .dataframe tbody tr th:only-of-type {\n",
       "        vertical-align: middle;\n",
       "    }\n",
       "\n",
       "    .dataframe tbody tr th {\n",
       "        vertical-align: top;\n",
       "    }\n",
       "\n",
       "    .dataframe thead th {\n",
       "        text-align: right;\n",
       "    }\n",
       "</style>\n",
       "<table border=\"1\" class=\"dataframe\">\n",
       "  <thead>\n",
       "    <tr style=\"text-align: right;\">\n",
       "      <th></th>\n",
       "      <th>0</th>\n",
       "      <th>1</th>\n",
       "      <th>2</th>\n",
       "      <th>3</th>\n",
       "    </tr>\n",
       "  </thead>\n",
       "  <tbody>\n",
       "    <tr>\n",
       "      <th>0</th>\n",
       "      <td>5.0</td>\n",
       "      <td>2.0</td>\n",
       "      <td>3.5</td>\n",
       "      <td>1.0</td>\n",
       "    </tr>\n",
       "    <tr>\n",
       "      <th>1</th>\n",
       "      <td>5.4</td>\n",
       "      <td>3.9</td>\n",
       "      <td>1.3</td>\n",
       "      <td>0.4</td>\n",
       "    </tr>\n",
       "    <tr>\n",
       "      <th>2</th>\n",
       "      <td>5.6</td>\n",
       "      <td>3.0</td>\n",
       "      <td>4.1</td>\n",
       "      <td>1.3</td>\n",
       "    </tr>\n",
       "  </tbody>\n",
       "</table>\n",
       "</div>"
      ],
      "text/plain": [
       "     0    1    2    3\n",
       "0  5.0  2.0  3.5  1.0\n",
       "1  5.4  3.9  1.3  0.4\n",
       "2  5.6  3.0  4.1  1.3"
      ]
     },
     "execution_count": 55,
     "metadata": {},
     "output_type": "execute_result"
    }
   ],
   "source": [
    "X_original = rbt.inverse_transform(X_train_scale)\n",
    "pd.DataFrame(X_original).head(3)"
   ]
  },
  {
   "attachments": {},
   "cell_type": "markdown",
   "metadata": {},
   "source": [
    "##### 6) 차원축소\n",
    "데이터 분석 수행 시 설명변수가 너무 많은 경우 오히려 알고리즘 성능이 저하된다. 차원이 늘어남에 따라 데이터간 거리가 멀어지거나 전체 영역에서 설명 데이터의 비율은 줄어드는 현상이 발생한다.\n",
    "- 설명변수 선택 : 가장 간단하고 해석이 쉬운 방법으로 유용하지 않거나 상관관계가 높은 컬럼은 제거한다. (다중공선성 비교)"
   ]
  },
  {
   "cell_type": "code",
   "execution_count": null,
   "metadata": {},
   "outputs": [],
   "source": []
  },
  {
   "attachments": {},
   "cell_type": "markdown",
   "metadata": {},
   "source": [
    "- 주성분 분석(PCA; Principle Component Analysis) : 차원축소에서 가장 많이 사용되는 차원추출 방법이다.(차원추출 : 기존 컬럼을 새롭게 해석하여 저차워의 초평면에 투영하는 것) // PCA는 여러변수간 존재하는 상관관계를 이용하여 데이터를 축에 사영했을 때 분산이 가장 높은 축을 찾아 그 축을 새로운 주성분으로 결정하는 방법이다."
   ]
  },
  {
   "cell_type": "code",
   "execution_count": 59,
   "metadata": {},
   "outputs": [
    {
     "data": {
      "text/html": [
       "<div>\n",
       "<style scoped>\n",
       "    .dataframe tbody tr th:only-of-type {\n",
       "        vertical-align: middle;\n",
       "    }\n",
       "\n",
       "    .dataframe tbody tr th {\n",
       "        vertical-align: top;\n",
       "    }\n",
       "\n",
       "    .dataframe thead th {\n",
       "        text-align: right;\n",
       "    }\n",
       "</style>\n",
       "<table border=\"1\" class=\"dataframe\">\n",
       "  <thead>\n",
       "    <tr style=\"text-align: right;\">\n",
       "      <th></th>\n",
       "      <th>0</th>\n",
       "      <th>1</th>\n",
       "      <th>2</th>\n",
       "      <th>3</th>\n",
       "    </tr>\n",
       "  </thead>\n",
       "  <tbody>\n",
       "    <tr>\n",
       "      <th>0</th>\n",
       "      <td>-0.900681</td>\n",
       "      <td>1.019004</td>\n",
       "      <td>-1.340227</td>\n",
       "      <td>-1.315444</td>\n",
       "    </tr>\n",
       "    <tr>\n",
       "      <th>1</th>\n",
       "      <td>-1.143017</td>\n",
       "      <td>-0.131979</td>\n",
       "      <td>-1.340227</td>\n",
       "      <td>-1.315444</td>\n",
       "    </tr>\n",
       "    <tr>\n",
       "      <th>2</th>\n",
       "      <td>-1.385353</td>\n",
       "      <td>0.328414</td>\n",
       "      <td>-1.397064</td>\n",
       "      <td>-1.315444</td>\n",
       "    </tr>\n",
       "    <tr>\n",
       "      <th>3</th>\n",
       "      <td>-1.506521</td>\n",
       "      <td>0.098217</td>\n",
       "      <td>-1.283389</td>\n",
       "      <td>-1.315444</td>\n",
       "    </tr>\n",
       "    <tr>\n",
       "      <th>4</th>\n",
       "      <td>-1.021849</td>\n",
       "      <td>1.249201</td>\n",
       "      <td>-1.340227</td>\n",
       "      <td>-1.315444</td>\n",
       "    </tr>\n",
       "  </tbody>\n",
       "</table>\n",
       "</div>"
      ],
      "text/plain": [
       "          0         1         2         3\n",
       "0 -0.900681  1.019004 -1.340227 -1.315444\n",
       "1 -1.143017 -0.131979 -1.340227 -1.315444\n",
       "2 -1.385353  0.328414 -1.397064 -1.315444\n",
       "3 -1.506521  0.098217 -1.283389 -1.315444\n",
       "4 -1.021849  1.249201 -1.340227 -1.315444"
      ]
     },
     "execution_count": 59,
     "metadata": {},
     "output_type": "execute_result"
    }
   ],
   "source": [
    "## PCA를 위한 전처리\n",
    "import pandas as pd\n",
    "from sklearn.datasets import load_iris\n",
    "iris = load_iris()\n",
    "iris = pd.DataFrame(iris.data, columns=iris.feature_names)\n",
    "iris['Class'] = load_iris().target\n",
    "iris['Class'] = iris['Class'].map({0:'Setosa', 1:'Versicolour', 2:'Virginica'})\n",
    "\n",
    "# 1) 수치형 데이터만 추출\n",
    "x = iris.drop(columns='Class')\n",
    "\n",
    "# 2) 수치형 변수 정규화\n",
    "from sklearn.preprocessing import StandardScaler\n",
    "x = StandardScaler().fit_transform(x)\n",
    "\n",
    "pd.DataFrame(x).head()"
   ]
  },
  {
   "cell_type": "code",
   "execution_count": 61,
   "metadata": {},
   "outputs": [
    {
     "name": "stdout",
     "output_type": "stream",
     "text": [
      "고유값:  [20.92306556 11.7091661   4.69185798  1.76273239]\n",
      "분산 설명력:  [0.72962445 0.22850762 0.03668922 0.00517871]\n"
     ]
    }
   ],
   "source": [
    "## 주성분 추출\n",
    "from sklearn.decomposition import PCA\n",
    "pca = PCA(n_components=4)\n",
    "pca_fit = pca.fit(x)\n",
    "\n",
    "print('고유값: ', pca.singular_values_)\n",
    "print('분산 설명력: ', pca.explained_variance_ratio_)"
   ]
  },
  {
   "cell_type": "code",
   "execution_count": 62,
   "metadata": {},
   "outputs": [
    {
     "data": {
      "image/png": "[encoded data removed]",
      "text/plain": [
       "<Figure size 640x480 with 1 Axes>"
      ]
     },
     "metadata": {},
     "output_type": "display_data"
    }
   ],
   "source": [
    "## Scree Plot : 사용할 주성분 개수 정하기\n",
    "# 주성분 개수가 증가할수록 scree plot의 기울기(분산의 변화정도)는 감소한다.\n",
    "# 보통 기울기가 급격히 감소하는 지점의 직전까지를 주성분으로 선택한다.\n",
    "import matplotlib.pyplot as plt\n",
    "\n",
    "plt.title('Scree Plot')\n",
    "plt.xlabel('Number of Components')\n",
    "plt.ylabel('Cumulative Explained Variance')\n",
    "plt.plot(pca.explained_variance_ratio_, 'o-')\n",
    "plt.show()"
   ]
  },
  {
   "cell_type": "code",
   "execution_count": 63,
   "metadata": {},
   "outputs": [
    {
     "data": {
      "text/html": [
       "<div>\n",
       "<style scoped>\n",
       "    .dataframe tbody tr th:only-of-type {\n",
       "        vertical-align: middle;\n",
       "    }\n",
       "\n",
       "    .dataframe tbody tr th {\n",
       "        vertical-align: top;\n",
       "    }\n",
       "\n",
       "    .dataframe thead th {\n",
       "        text-align: right;\n",
       "    }\n",
       "</style>\n",
       "<table border=\"1\" class=\"dataframe\">\n",
       "  <thead>\n",
       "    <tr style=\"text-align: right;\">\n",
       "      <th></th>\n",
       "      <th>pca1</th>\n",
       "      <th>pca2</th>\n",
       "    </tr>\n",
       "  </thead>\n",
       "  <tbody>\n",
       "    <tr>\n",
       "      <th>0</th>\n",
       "      <td>-2.264703</td>\n",
       "      <td>0.480027</td>\n",
       "    </tr>\n",
       "    <tr>\n",
       "      <th>1</th>\n",
       "      <td>-2.080961</td>\n",
       "      <td>-0.674134</td>\n",
       "    </tr>\n",
       "    <tr>\n",
       "      <th>2</th>\n",
       "      <td>-2.364229</td>\n",
       "      <td>-0.341908</td>\n",
       "    </tr>\n",
       "    <tr>\n",
       "      <th>3</th>\n",
       "      <td>-2.299384</td>\n",
       "      <td>-0.597395</td>\n",
       "    </tr>\n",
       "    <tr>\n",
       "      <th>4</th>\n",
       "      <td>-2.389842</td>\n",
       "      <td>0.646835</td>\n",
       "    </tr>\n",
       "  </tbody>\n",
       "</table>\n",
       "</div>"
      ],
      "text/plain": [
       "       pca1      pca2\n",
       "0 -2.264703  0.480027\n",
       "1 -2.080961 -0.674134\n",
       "2 -2.364229 -0.341908\n",
       "3 -2.299384 -0.597395\n",
       "4 -2.389842  0.646835"
      ]
     },
     "execution_count": 63,
     "metadata": {},
     "output_type": "execute_result"
    }
   ],
   "source": [
    "# 주성분 수 정하고 원하는 개수의 주성분을 가진 데이터프레임 생성\n",
    "pca = PCA(n_components=2)\n",
    "pca_n = pca.fit_transform(x)\n",
    "\n",
    "pca_iris = pd.DataFrame(data=pca_n, columns=['pca1','pca2'])\n",
    "pca_iris.head()"
   ]
  },
  {
   "cell_type": "code",
   "execution_count": 65,
   "metadata": {},
   "outputs": [
    {
     "data": {
      "image/png": "[encoded data removed]",
      "text/plain": [
       "<Figure size 640x480 with 1 Axes>"
      ]
     },
     "metadata": {},
     "output_type": "display_data"
    }
   ],
   "source": [
    "# 주성분 산포도 확인\n",
    "import matplotlib.pyplot as plt\n",
    "import seaborn as sns\n",
    "\n",
    "plt.title('2 component PCA')\n",
    "sns.scatterplot(x='pca1', y='pca2', hue=iris['Class'], data=pca_iris)\n",
    "plt.show()"
   ]
  },
  {
   "cell_type": "code",
   "execution_count": 67,
   "metadata": {},
   "outputs": [
    {
     "data": {
      "image/png": "[encoded data removed]",
      "text/plain": [
       "<Figure size 640x480 with 1 Axes>"
      ]
     },
     "metadata": {},
     "output_type": "display_data"
    }
   ],
   "source": [
    "# 아래 원본보다 주성분 데이터프레임이 종속변수를 더 잘 설명하는 산포도를 그린 것을 확인할 수 있다.\n",
    "sns.scatterplot(x=iris['sepal length (cm)'], y=iris['sepal width (cm)'], data=iris, hue=iris['Class'])\n",
    "plt.show()"
   ]
  },
  {
   "attachments": {},
   "cell_type": "markdown",
   "metadata": {},
   "source": [
    "##### 7) 데이터 불균형 문제 처리\n",
    "일반적으로 이상을 정확히 분류하는 것이 더 중요하다. 무작정 정확도를 높이기보다는 정확도를 다소 포기하더라도 최대한 손실없이 이상을 가려내는 것이 중요하다.\n",
    "\n",
    "<b>[ 오차행렬 ]</b>\n",
    "\n",
    "이진분류 모델 성능평가 기법 중 하나로, 클래스의 값이 True/False만을 가질 때 4분면 행렬에 실제 클래스 값과 예측 클래스 값이 어떻게 매핑되는지 표현한 것이다. 오차행렬의 값으로도 정확도, 정밀도, 재현율 등 다양한 이진분류 결과 지표를 생성할 수 있으며, 이진분류에서는 이 평가지표를 다각적으로 활용하여 분류 성능을 평가한다.\n",
    "\n",
    "<img src=\"https://velog.velcdn.com/images%2Fsset2323%2Fpost%2F2fb704cf-8556-40fc-87a2-75b8feb32986%2Fimage.png\" width='35%' height='35%'>\n",
    "\n",
    "- TN(True Negative) : 음성을 음성이라고 예측\n",
    "- FP(False Positive) : 음성을 양성이라고 예측\n",
    "- FN(False Negative) : 양성을 음성이라고 예측\n",
    "- TP(True Positive) : 양성을 양성이라고 예측"
   ]
  },
  {
   "attachments": {},
   "cell_type": "markdown",
   "metadata": {},
   "source": [
    "- 언더샘플링(Under Sampling)\n",
    "\n",
    "다수의 레이블을 가진 데이터를 샘플링하여 소수의 데이터셋 레이블의 수 수준으로 감소시키는 기법이다. 이 기법은 데이터 불균형으로 인한 문제는 피할 수 있지만 전체 데이터 수가 급격하게 줄어들어 오히려 학습 성능을 떨어뜨리는 결과를 초래할 수 있다."
   ]
  },
  {
   "cell_type": "code",
   "execution_count": 36,
   "metadata": {},
   "outputs": [
    {
     "name": "stdout",
     "output_type": "stream",
     "text": [
      "Counter({0: 1900, 1: 100})\n"
     ]
    }
   ],
   "source": [
    "import numpy as np\n",
    "import pandas as pd\n",
    "from sklearn.datasets import make_classification\n",
    "from collections import Counter\n",
    "from imblearn.under_sampling import RandomUnderSampler\n",
    "\n",
    "# 95:1 불균형 데이터 생성\n",
    "x, y = make_classification(n_samples=2000, n_features=6, weights=[0.95], flip_y=0)\n",
    "print(Counter(y))"
   ]
  },
  {
   "cell_type": "code",
   "execution_count": 37,
   "metadata": {},
   "outputs": [
    {
     "name": "stdout",
     "output_type": "stream",
     "text": [
      "Counter({0: 100, 1: 100})\n"
     ]
    },
    {
     "data": {
      "text/plain": [
       "'\\n0번 레이블이 1번 레이블 수에 맞춰서 100개로 줄어든 것을 확인할 수 있다.\\n'"
      ]
     },
     "execution_count": 37,
     "metadata": {},
     "output_type": "execute_result"
    }
   ],
   "source": [
    "# 랜덤 언더샘플링 : 다수를 차지하는 레이블에서 무작위로 데이터를 제거\n",
    "# sampling_strategy='majority' : 다수레이블을 데이터 샘플링하여 소수레이블 데이터 수와 동일하게 줄임\n",
    "undersample = RandomUnderSampler(sampling_strategy='majority')\n",
    "x_under, y_under = undersample.fit_resample(x, y)\n",
    "print(Counter(y_under))\n",
    "\n",
    "'''\n",
    "0번 레이블이 1번 레이블 수에 맞춰서 100개로 줄어든 것을 확인할 수 있다.\n",
    "'''"
   ]
  },
  {
   "cell_type": "code",
   "execution_count": 38,
   "metadata": {},
   "outputs": [
    {
     "name": "stdout",
     "output_type": "stream",
     "text": [
      "Counter({0: 200, 1: 100})\n"
     ]
    }
   ],
   "source": [
    "# 파라미터를 0~1 사이 숫자로 지정하면 소수레이블 데이터 수와 다수레이블 데이터 수가 해당 비율이 되도록 조장함\n",
    "undersample = RandomUnderSampler(sampling_strategy=0.5)\n",
    "x_under2, y_under2 = undersample.fit_resample(x, y)\n",
    "print(Counter(y_under2))"
   ]
  },
  {
   "attachments": {},
   "cell_type": "markdown",
   "metadata": {},
   "source": [
    "- 오버샘플링(Over Sampling)\n",
    "\n",
    "소수레이블을 지닌 데이터셋을 다수레이블이 지닌 데이터셋 수만큼 증식시켜 학습에 사용하기 위한 충분한 양과 비율의 데이터를 확보하는 기법이다. 데이터의 손실이 없어 일반적으로 언더샘플링보다 성능이 유리하여 주로 사용된다."
   ]
  },
  {
   "cell_type": "code",
   "execution_count": 39,
   "metadata": {},
   "outputs": [
    {
     "name": "stdout",
     "output_type": "stream",
     "text": [
      "Counter({0: 1900, 1: 950})\n",
      "Counter({0: 1900, 1: 1900})\n"
     ]
    }
   ],
   "source": [
    "# 랜덤 오버샘플링 : 소ㅜ레이블 데이터셋을 단순 복제하여 다수레이블과 비율을 맞추는 방법\n",
    "# 데이터를 단순 복제하기 때문에 분포는 변하지 않지만 그 수가 늘어나 같은 비율로 가중치를 받을 수 있다.\n",
    "# 오버피팅 위험성이 있지만 불균형 문제를 처리하지 않는 것 보다는 유효하기 때문에 종종 사용된다.\n",
    "from imblearn.over_sampling import RandomOverSampler\n",
    "\n",
    "oversample = RandomOverSampler(sampling_strategy=0.5)\n",
    "x_over, y_over = oversample.fit_resample(x, y)\n",
    "print(Counter(y_over))\n",
    "\n",
    "oversample = RandomOverSampler(sampling_strategy='minority')\n",
    "x_over, y_over = oversample.fit_resample(x, y)\n",
    "print(Counter(y_over))"
   ]
  },
  {
   "attachments": {},
   "cell_type": "markdown",
   "metadata": {},
   "source": [
    "- SMOTE (Synthetic Minority Over-sampling Technique)\n",
    "\n",
    "소수레이블을 지닌 데이터셋 관측값에 대한 K개 최근접이웃을 찾고, 관측값과 이웃으로 선택된 값 사이에 임의의 새로운 데이터를 생성하는 방법으로 <b>샘플 수를 늘리는</b> 방법이다."
   ]
  },
  {
   "cell_type": "code",
   "execution_count": 40,
   "metadata": {},
   "outputs": [
    {
     "name": "stdout",
     "output_type": "stream",
     "text": [
      "Counter({0: 1900, 1: 1900})\n"
     ]
    }
   ],
   "source": [
    "from imblearn.over_sampling import SMOTE\n",
    "\n",
    "smote_sample = SMOTE(sampling_strategy='minority')\n",
    "x_sm, y_sm = smote_sample.fit_resample(x, y)\n",
    "print(Counter(y_sm))"
   ]
  },
  {
   "cell_type": "code",
   "execution_count": 57,
   "metadata": {},
   "outputs": [
    {
     "data": {
      "text/plain": [
       "array([-0.34934587, -0.97845475,  0.42326069, -0.22952232,  0.29845071,\n",
       "       -1.11370312])"
      ]
     },
     "execution_count": 57,
     "metadata": {},
     "output_type": "execute_result"
    }
   ],
   "source": [
    "x[2]"
   ]
  }
 ],
 "metadata": {
  "kernelspec": {
   "display_name": "adp_kernel",
   "language": "python",
   "name": "adp"
  },
  "language_info": {
   "codemirror_mode": {
    "name": "ipython",
    "version": 3
   },
   "file_extension": ".py",
   "mimetype": "text/x-python",
   "name": "python",
   "nbconvert_exporter": "python",
   "pygments_lexer": "ipython3",
   "version": "3.10.9"
  },
  "orig_nbformat": 4,
  "vscode": {
   "interpreter": {
    "hash": "9650cb4e16cdd4a8e8e2d128bf38d875813998db22a3c986335f89e0cb4d7bb2"
   }
  }
 },
 "nbformat": 4,
 "nbformat_minor": 2
}
