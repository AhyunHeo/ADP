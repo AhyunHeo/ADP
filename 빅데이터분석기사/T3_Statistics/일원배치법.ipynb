{
 "cells": [
  {
   "cell_type": "markdown",
   "id": "71127adf",
   "metadata": {},
   "source": [
    "### 세 가지 다른 교육 방법(A, B, C)을 사용하여 수험생들의 시험 성적을 개선시키는 효과를 평가하고자 한다. 30명의 학생들을 무작위로 세 그룹으로 배정하여 교육을 실시하였고, 시험을 보고 성적을 측정하였습니다. 다음은 각 그룹의 학생들의 성적 데이터입니다.\n",
    "\n",
    "- 귀무가설(H0): 세 그룹(A, B, C) 간의 평균 성적 차이가 없다.\n",
    "- 대립가설(H1 또는 Ha): 세 그룹(A, B, C) 간의 평균 성적 차이가 있다.\n",
    "\n",
    "\n",
    "##### 일원배치법을 수행하여 그룹 간의 평균 성적 차이가 있는지 검정하세요\n",
    "1. f값 (소수 둘째자리)\n",
    "2. p값 (소수 여섯째자리)\n",
    "3. 검정결과 출력"
   ]
  },
  {
   "cell_type": "code",
   "execution_count": 1,
   "id": "e020b6e5",
   "metadata": {},
   "outputs": [],
   "source": [
    "import scipy.stats as stats"
   ]
  },
  {
   "cell_type": "code",
   "execution_count": 2,
   "id": "20a7e4ac",
   "metadata": {},
   "outputs": [],
   "source": [
    "# 각 그룹의 데이터\n",
    "groupA = [85, 92, 78, 88, 83, 90, 76, 84, 92, 87]\n",
    "groupB = [79, 69, 84, 78, 79, 83, 79, 81, 86, 88]\n",
    "groupC = [75, 68, 74, 65, 77, 72, 70, 73, 78, 75]"
   ]
  },
  {
   "cell_type": "code",
   "execution_count": 3,
   "id": "a86838a7",
   "metadata": {},
   "outputs": [
    {
     "name": "stdout",
     "output_type": "stream",
     "text": [
      "16.88\n",
      "0.000018\n"
     ]
    }
   ],
   "source": [
    "# 일원배치법 수행\n",
    "fv, pv = stats.f_oneway(groupA, groupB, groupC)\n",
    "\n",
    "print(round(fv,2))\n",
    "print(format(pv,'.6f'))"
   ]
  },
  {
   "cell_type": "code",
   "execution_count": null,
   "id": "0914f5a1",
   "metadata": {},
   "outputs": [],
   "source": [
    "# 검정통계량 F값은 16.88, p-value값은 0.00018이므로 유의수준 0.05하에서 귀무가설이 기각된다.\n",
    "# 대립가설이 채택되므로 세 그룹간 평균 성적 차이가 있다고 할 수 있다."
   ]
  }
 ],
 "metadata": {
  "kernelspec": {
   "display_name": "adp_kernel",
   "language": "python",
   "name": "adp"
  },
  "language_info": {
   "codemirror_mode": {
    "name": "ipython",
    "version": 3
   },
   "file_extension": ".py",
   "mimetype": "text/x-python",
   "name": "python",
   "nbconvert_exporter": "python",
   "pygments_lexer": "ipython3",
   "version": "3.10.9"
  }
 },
 "nbformat": 4,
 "nbformat_minor": 5
}
