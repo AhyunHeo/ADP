{
 "cells": [
  {
   "cell_type": "markdown",
   "id": "5ca41e4c",
   "metadata": {},
   "source": [
    "# Shapiro-Wilks"
   ]
  },
  {
   "cell_type": "markdown",
   "id": "adf189b5",
   "metadata": {},
   "source": [
    "### 12명의 수험생이 빅데이터 분석기사 시험에서 받은 점수이다. Shapiro-Wilk 검정을 사용하여 데이터가 정규 분포를 따르는지 검증하시오\n",
    "- 귀무 가설(H0): 데이터는 정규 분포를 따른다.\n",
    "- 대립 가설(H1): 데이터는 정규 분포를 따르지 않는다.\n",
    "\n",
    "\n",
    "##### Shapiro-Wilk 검정 통계량, p-value, 검증결과를 출력하시오"
   ]
  },
  {
   "cell_type": "code",
   "execution_count": 1,
   "id": "3b770f91",
   "metadata": {},
   "outputs": [],
   "source": [
    "from scipy import stats"
   ]
  },
  {
   "cell_type": "code",
   "execution_count": 2,
   "id": "1f89a336",
   "metadata": {},
   "outputs": [],
   "source": [
    "data = [75, 83, 81, 92, 68, 77, 78, 80, 85, 95, 79, 89]"
   ]
  },
  {
   "cell_type": "code",
   "execution_count": 3,
   "id": "f607532b",
   "metadata": {},
   "outputs": [
    {
     "name": "stdout",
     "output_type": "stream",
     "text": [
      "Shapiro-Wilk 검정 통계량: 0.9768089652061462\n",
      "p-value: 0.9676492810249329\n"
     ]
    }
   ],
   "source": [
    "# Shapiro-Wilk 검정 수행\n",
    "st, pv = stats.shapiro(data)\n",
    "\n",
    "print(\"Shapiro-Wilk 검정 통계량:\", st)\n",
    "print(\"p-value:\", pv)"
   ]
  },
  {
   "cell_type": "code",
   "execution_count": 4,
   "id": "cad5feee",
   "metadata": {},
   "outputs": [
    {
     "name": "stdout",
     "output_type": "stream",
     "text": [
      "귀무 가설을 기각할 수 없다. 데이터는 정규 분포를 따름\n"
     ]
    }
   ],
   "source": [
    "alpha = 0.05\n",
    "\n",
    "if pv > alpha:\n",
    "    print(\"귀무 가설을 기각할 수 없다. 데이터는 정규 분포를 따름\")\n",
    "else:\n",
    "    print(\"귀무 가설을 기각한다. 데이터는 정규 분포를 따르지 않음\")"
   ]
  }
 ],
 "metadata": {
  "kernelspec": {
   "display_name": "adp_kernel",
   "language": "python",
   "name": "adp"
  },
  "language_info": {
   "codemirror_mode": {
    "name": "ipython",
    "version": 3
   },
   "file_extension": ".py",
   "mimetype": "text/x-python",
   "name": "python",
   "nbconvert_exporter": "python",
   "pygments_lexer": "ipython3",
   "version": "3.10.9"
  }
 },
 "nbformat": 4,
 "nbformat_minor": 5
}
