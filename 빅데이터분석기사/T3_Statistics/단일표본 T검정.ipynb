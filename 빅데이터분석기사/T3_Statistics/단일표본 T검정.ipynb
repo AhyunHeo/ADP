{
 "cells": [
  {
   "cell_type": "markdown",
   "id": "b65da4f0",
   "metadata": {},
   "source": [
    "### 다음은 22명의 학생들이 국어시험에서 받은 점수이다. 학생들의 평균이 75보다 크다고 할 수 있는가?\n",
    "- 귀무가설(H0): 모평균은 mu와 같다. (μ = mu), 학생들의 평균은 75이다\n",
    "- 대립가설(H1): 모평균은 mu보다 크다. (μ > mu), 학생들의 평균은 75보다 크다\n",
    "\n",
    "\n",
    "- 가정1: 모집단은 정규분포를 따른다.\n",
    "- 가정2: 표본의 크기가 충분히 크다.\n",
    "\n",
    "1. 검정통계량, p-value, 검정결과를 출력하시오"
   ]
  },
  {
   "cell_type": "code",
   "execution_count": 1,
   "id": "88086e2c",
   "metadata": {},
   "outputs": [],
   "source": [
    "from scipy.stats import ttest_1samp"
   ]
  },
  {
   "cell_type": "code",
   "execution_count": 2,
   "id": "0296fe06",
   "metadata": {},
   "outputs": [],
   "source": [
    "# 데이터\n",
    "scores = [75, 80, 68, 72, 77, 82, 81, 79, 70, 74, 76, 78, 81, 73, 81, 78, 75, 72, 74, 79, 78, 79]\n",
    "\n",
    "# 모평균 가설검정\n",
    "mu = 75  # 검정할 모평균\n",
    "alpha = 0.05  # 유의수준"
   ]
  },
  {
   "cell_type": "code",
   "execution_count": 4,
   "id": "25457229",
   "metadata": {},
   "outputs": [
    {
     "name": "stdout",
     "output_type": "stream",
     "text": [
      "t-statistic: 1.765879233231226\n",
      "p-value: 0.04597614747709146\n"
     ]
    }
   ],
   "source": [
    "# t-test를 사용하여 가설 검정\n",
    "ts, pv = ttest_1samp(scores, mu, alternative='greater')\n",
    "\n",
    "print(\"t-statistic:\", ts)\n",
    "print(\"p-value:\", pv)"
   ]
  },
  {
   "cell_type": "code",
   "execution_count": 5,
   "id": "ac20f49e",
   "metadata": {},
   "outputs": [
    {
     "name": "stdout",
     "output_type": "stream",
     "text": [
      "귀무가설을 기각합니다. 모평균은 75보다 큽니다.\n"
     ]
    }
   ],
   "source": [
    "if pv < alpha:\n",
    "    print(\"귀무가설을 기각합니다. 모평균은 75보다 큽니다.\")\n",
    "else:\n",
    "    print(\"귀무가설을 채택합니다. 모평균은 75보다 크지 않습니다.\")"
   ]
  }
 ],
 "metadata": {
  "kernelspec": {
   "display_name": "adp_kernel",
   "language": "python",
   "name": "adp"
  },
  "language_info": {
   "codemirror_mode": {
    "name": "ipython",
    "version": 3
   },
   "file_extension": ".py",
   "mimetype": "text/x-python",
   "name": "python",
   "nbconvert_exporter": "python",
   "pygments_lexer": "ipython3",
   "version": "3.10.9"
  }
 },
 "nbformat": 4,
 "nbformat_minor": 5
}
