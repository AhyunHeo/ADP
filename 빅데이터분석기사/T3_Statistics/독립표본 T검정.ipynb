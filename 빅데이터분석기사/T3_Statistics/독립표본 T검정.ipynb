{
 "cells": [
  {
   "cell_type": "markdown",
   "id": "abfe53c0",
   "metadata": {},
   "source": [
    "### 어떤 특정 약물을 복용한 사람들의 평균 체온이 복용하지 않은 사람들의 평균 체온과 유의미하게 다른지 검정해보려고 합니다.\n",
    "- 가정1: 약물을 복용한 그룹과 복용하지 않은 그룹의 체온 데이터가 각각 주어져 있다고 가정합니다.\n",
    "- 가정2: 각 그룹의 체온은 정규분포를 따른다고 가정합니다.\n",
    "\n",
    "1. 검정통계량, p-value, 검정결과를 출력하시오"
   ]
  },
  {
   "cell_type": "code",
   "execution_count": 1,
   "id": "a3ace8ff",
   "metadata": {},
   "outputs": [],
   "source": [
    "from scipy import stats\n",
    "\n",
    "# 가설 설정\n",
    "# H0: 약물을 복용한 그룹과 복용하지 않은 그룹의 평균 체온은 유의미한 차이가 없다.\n",
    "# H1: 약물을 복용한 그룹과 복용하지 않은 그룹의 평균 체온은 유의미한 차이가 있다."
   ]
  },
  {
   "cell_type": "code",
   "execution_count": 2,
   "id": "627485c7",
   "metadata": {},
   "outputs": [],
   "source": [
    "# 데이터 수집\n",
    "group1 = [36.8, 36.7, 37.1, 36.9, 37.2, 36.8, 36.9, 37.1, 36.7, 37.1]\n",
    "group2 = [36.5, 36.6, 36.3, 36.6, 36.9, 36.7, 36.7, 36.8, 36.5, 36.7]"
   ]
  },
  {
   "cell_type": "code",
   "execution_count": 3,
   "id": "a7b1be35",
   "metadata": {},
   "outputs": [
    {
     "name": "stdout",
     "output_type": "stream",
     "text": [
      "검정통계량: 3.7964208654863336\n",
      "p-value: 0.001321891476703691\n"
     ]
    }
   ],
   "source": [
    "# 가설검정\n",
    "ts, pv = stats.ttest_ind(group1, group2)\n",
    "\n",
    "print(\"검정통계량:\", ts)\n",
    "print(\"p-value:\", pv)"
   ]
  },
  {
   "cell_type": "code",
   "execution_count": 5,
   "id": "9a2a6751",
   "metadata": {},
   "outputs": [
    {
     "name": "stdout",
     "output_type": "stream",
     "text": [
      "귀무가설을 기각합니다. 약물을 복용한 그룹과 복용하지 않은 그룹의 평균 체온은 유의미한 차이가 있습니다.\n"
     ]
    }
   ],
   "source": [
    "# 유의성 검정\n",
    "alpha = 0.05  # 유의수준 설정\n",
    "\n",
    "if pv < alpha:\n",
    "    print(\"귀무가설을 기각합니다. 약물을 복용한 그룹과 복용하지 않은 그룹의 평균 체온은 유의미한 차이가 있습니다.\")\n",
    "else:\n",
    "    print(\"귀무가설을 채택합니다. 약물을 복용한 그룹과 복용하지 않은 그룹의 평균 체온은 유의미한 차이가 없습니다.\")"
   ]
  }
 ],
 "metadata": {
  "kernelspec": {
   "display_name": "adp_kernel",
   "language": "python",
   "name": "adp"
  },
  "language_info": {
   "codemirror_mode": {
    "name": "ipython",
    "version": 3
   },
   "file_extension": ".py",
   "mimetype": "text/x-python",
   "name": "python",
   "nbconvert_exporter": "python",
   "pygments_lexer": "ipython3",
   "version": "3.10.9"
  }
 },
 "nbformat": 4,
 "nbformat_minor": 5
}
