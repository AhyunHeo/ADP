{
 "cells": [
  {
   "cell_type": "markdown",
   "id": "1b00b2ed",
   "metadata": {},
   "source": [
    "### 주어진 데이터는 고혈압 환자 치료 전후의 혈압이다. 해당 치료가 효과가 있는지 대응(쌍체)표본 t-검정을 진행하시오\n",
    "- 귀무가설(H0):  μ >= 0\n",
    "- 대립가설(H1):  μ < 0\n",
    "- μ = (치료 후 혈압 - 치료 전 혈압)의 평균\n",
    "- 유의수준: 0.05\n",
    "\n",
    "1. μ의 표본평균은?(소수 둘째자리까지 반올림)\n",
    "2. 검정통계량 값은?(소수 넷째자리까지 반올림)\n",
    "3. p-값은?(소수 넷째자리까지 반올림)\n",
    "4. 가설검정의 결과는? (유의수준 5%)"
   ]
  },
  {
   "cell_type": "code",
   "execution_count": 1,
   "id": "6b3d0f2d",
   "metadata": {},
   "outputs": [],
   "source": [
    "import pandas as pd\n",
    "from scipy import stats"
   ]
  },
  {
   "cell_type": "code",
   "execution_count": 2,
   "id": "8f7a015f",
   "metadata": {},
   "outputs": [
    {
     "data": {
      "text/html": [
       "<div>\n",
       "<style scoped>\n",
       "    .dataframe tbody tr th:only-of-type {\n",
       "        vertical-align: middle;\n",
       "    }\n",
       "\n",
       "    .dataframe tbody tr th {\n",
       "        vertical-align: top;\n",
       "    }\n",
       "\n",
       "    .dataframe thead th {\n",
       "        text-align: right;\n",
       "    }\n",
       "</style>\n",
       "<table border=\"1\" class=\"dataframe\">\n",
       "  <thead>\n",
       "    <tr style=\"text-align: right;\">\n",
       "      <th></th>\n",
       "      <th>Id</th>\n",
       "      <th>sex</th>\n",
       "      <th>age</th>\n",
       "      <th>bp_pre</th>\n",
       "      <th>bp_post</th>\n",
       "    </tr>\n",
       "  </thead>\n",
       "  <tbody>\n",
       "    <tr>\n",
       "      <th>0</th>\n",
       "      <td>p001</td>\n",
       "      <td>Male</td>\n",
       "      <td>33</td>\n",
       "      <td>149</td>\n",
       "      <td>129</td>\n",
       "    </tr>\n",
       "    <tr>\n",
       "      <th>1</th>\n",
       "      <td>p002</td>\n",
       "      <td>Male</td>\n",
       "      <td>39</td>\n",
       "      <td>168</td>\n",
       "      <td>168</td>\n",
       "    </tr>\n",
       "    <tr>\n",
       "      <th>2</th>\n",
       "      <td>p003</td>\n",
       "      <td>Male</td>\n",
       "      <td>70</td>\n",
       "      <td>176</td>\n",
       "      <td>155</td>\n",
       "    </tr>\n",
       "    <tr>\n",
       "      <th>3</th>\n",
       "      <td>p004</td>\n",
       "      <td>Female</td>\n",
       "      <td>41</td>\n",
       "      <td>169</td>\n",
       "      <td>178</td>\n",
       "    </tr>\n",
       "    <tr>\n",
       "      <th>4</th>\n",
       "      <td>p005</td>\n",
       "      <td>Male</td>\n",
       "      <td>48</td>\n",
       "      <td>160</td>\n",
       "      <td>126</td>\n",
       "    </tr>\n",
       "  </tbody>\n",
       "</table>\n",
       "</div>"
      ],
      "text/plain": [
       "     Id     sex  age  bp_pre  bp_post\n",
       "0  p001    Male   33     149      129\n",
       "1  p002    Male   39     168      168\n",
       "2  p003    Male   70     176      155\n",
       "3  p004  Female   41     169      178\n",
       "4  p005    Male   48     160      126"
      ]
     },
     "execution_count": 2,
     "metadata": {},
     "output_type": "execute_result"
    }
   ],
   "source": [
    "df = pd.read_csv(\"../data/high_blood_pressure.csv\")\n",
    "df.head()"
   ]
  },
  {
   "cell_type": "code",
   "execution_count": 3,
   "id": "a3222c3e",
   "metadata": {},
   "outputs": [
    {
     "name": "stdout",
     "output_type": "stream",
     "text": [
      "<class 'pandas.core.frame.DataFrame'>\n",
      "RangeIndex: 120 entries, 0 to 119\n",
      "Data columns (total 5 columns):\n",
      " #   Column   Non-Null Count  Dtype \n",
      "---  ------   --------------  ----- \n",
      " 0   Id       120 non-null    object\n",
      " 1   sex      120 non-null    object\n",
      " 2   age      120 non-null    int64 \n",
      " 3   bp_pre   120 non-null    int64 \n",
      " 4   bp_post  120 non-null    int64 \n",
      "dtypes: int64(3), object(2)\n",
      "memory usage: 4.8+ KB\n"
     ]
    }
   ],
   "source": [
    "df.info()"
   ]
  },
  {
   "cell_type": "code",
   "execution_count": 4,
   "id": "7ce6d29a",
   "metadata": {},
   "outputs": [
    {
     "name": "stdout",
     "output_type": "stream",
     "text": [
      "-6.12\n"
     ]
    }
   ],
   "source": [
    "# 1.μ의 표본평균은?(소수 둘째자리까지 반올림)\n",
    "\n",
    "df['diff'] = df['bp_post'] - df['bp_pre']\n",
    "\n",
    "print(round(df['diff'].mean(),2))"
   ]
  },
  {
   "cell_type": "code",
   "execution_count": 5,
   "id": "731bc508",
   "metadata": {},
   "outputs": [
    {
     "name": "stdout",
     "output_type": "stream",
     "text": [
      "-3.0002\n"
     ]
    }
   ],
   "source": [
    "# 2. 검정통계량 값은?(소수 넷째자리까지 반올림)\n",
    "st, pv = stats.ttest_rel(df['bp_post'], df['bp_pre'], alternative=\"less\")\n",
    "print(round(st,4))"
   ]
  },
  {
   "cell_type": "code",
   "execution_count": 6,
   "id": "341c3cf9",
   "metadata": {},
   "outputs": [
    {
     "name": "stdout",
     "output_type": "stream",
     "text": [
      "0.0016\n"
     ]
    }
   ],
   "source": [
    "# 3. p-값은?(소수 넷째자리까지 반올림)\n",
    "print(round(pv,4))"
   ]
  },
  {
   "cell_type": "code",
   "execution_count": null,
   "id": "de9a37c7",
   "metadata": {},
   "outputs": [],
   "source": [
    "# 4. 가설검정의 결과는? (유의수준 5%)\n",
    "# 검정통계량이 -3.002, p-value는 0.0016으로 유의수준 0.05보다 작으므로 귀무가설이 기각된다.\n",
    "# 치료 효과가 없다는 귀무가설이 기각되므로, 대립가설 채택되어 해당 치료가 효과가 있다고 할 수 있다."
   ]
  }
 ],
 "metadata": {
  "kernelspec": {
   "display_name": "Python 3 (ipykernel)",
   "language": "python",
   "name": "python3"
  },
  "language_info": {
   "codemirror_mode": {
    "name": "ipython",
    "version": 3
   },
   "file_extension": ".py",
   "mimetype": "text/x-python",
   "name": "python",
   "nbconvert_exporter": "python",
   "pygments_lexer": "ipython3",
   "version": "3.10.9"
  }
 },
 "nbformat": 4,
 "nbformat_minor": 5
}
